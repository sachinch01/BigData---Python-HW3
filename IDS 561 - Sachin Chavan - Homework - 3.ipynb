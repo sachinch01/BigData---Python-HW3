{
 "cells": [
  {
   "cell_type": "code",
   "execution_count": 1,
   "id": "8f5af2a4",
   "metadata": {},
   "outputs": [],
   "source": [
    "import pandas as pd\n",
    "import csv\n",
    "\n",
    "import pyspark\n",
    "import findspark\n",
    "findspark.init()\n",
    "import re\n",
    "from pyspark.sql import SparkSession\n",
    "from pyspark import SparkContext\n",
    "from pyspark.sql import SQLContext\n",
    "spark = SparkSession.builder.appName('Homework3').getOrCreate()"
   ]
  },
  {
   "cell_type": "code",
   "execution_count": 2,
   "id": "e3db7c34",
   "metadata": {},
   "outputs": [
    {
     "data": {
      "text/html": [
       "<div>\n",
       "<style scoped>\n",
       "    .dataframe tbody tr th:only-of-type {\n",
       "        vertical-align: middle;\n",
       "    }\n",
       "\n",
       "    .dataframe tbody tr th {\n",
       "        vertical-align: top;\n",
       "    }\n",
       "\n",
       "    .dataframe thead th {\n",
       "        text-align: right;\n",
       "    }\n",
       "</style>\n",
       "<table border=\"1\" class=\"dataframe\">\n",
       "  <thead>\n",
       "    <tr style=\"text-align: right;\">\n",
       "      <th></th>\n",
       "      <th>id_str</th>\n",
       "      <th>tweet_created_at</th>\n",
       "      <th>user_screen_name</th>\n",
       "      <th>user_id_str</th>\n",
       "      <th>user_statuses_count</th>\n",
       "      <th>user_favourites_count</th>\n",
       "      <th>user_protected</th>\n",
       "      <th>user_listed_count</th>\n",
       "      <th>user_following</th>\n",
       "      <th>user_description</th>\n",
       "      <th>...</th>\n",
       "      <th>tweet_language</th>\n",
       "      <th>text_</th>\n",
       "      <th>favorite_count</th>\n",
       "      <th>favorited</th>\n",
       "      <th>in_reply_to_screen_name</th>\n",
       "      <th>in_reply_to_status_id_str</th>\n",
       "      <th>in_reply_to_user_id_str</th>\n",
       "      <th>retweet_count</th>\n",
       "      <th>retweeted</th>\n",
       "      <th>text</th>\n",
       "    </tr>\n",
       "  </thead>\n",
       "  <tbody>\n",
       "    <tr>\n",
       "      <th>0</th>\n",
       "      <td>NaN</td>\n",
       "      <td>NaN</td>\n",
       "      <td>NaN</td>\n",
       "      <td>NaN</td>\n",
       "      <td>NaN</td>\n",
       "      <td>NaN</td>\n",
       "      <td>NaN</td>\n",
       "      <td>NaN</td>\n",
       "      <td>NaN</td>\n",
       "      <td>NaN</td>\n",
       "      <td>...</td>\n",
       "      <td>NaN</td>\n",
       "      <td>NaN</td>\n",
       "      <td>NaN</td>\n",
       "      <td>NaN</td>\n",
       "      <td>NaN</td>\n",
       "      <td>NaN</td>\n",
       "      <td>NaN</td>\n",
       "      <td>NaN</td>\n",
       "      <td>NaN</td>\n",
       "      <td>NaN</td>\n",
       "    </tr>\n",
       "    <tr>\n",
       "      <th>1</th>\n",
       "      <td>'793270689780203520'</td>\n",
       "      <td>Tue Nov 01 01:57:25 +0000 2016</td>\n",
       "      <td>SeanEPanjab</td>\n",
       "      <td>143515471.0</td>\n",
       "      <td>51287.0</td>\n",
       "      <td>4079.0</td>\n",
       "      <td>False</td>\n",
       "      <td>74.0</td>\n",
       "      <td>False</td>\n",
       "      <td>Content marketer; Polyglot; Beard aficionado; ...</td>\n",
       "      <td>...</td>\n",
       "      <td>en</td>\n",
       "      <td>@AmazonHelp Can you please DM me? A product I ...</td>\n",
       "      <td>0.0</td>\n",
       "      <td>False</td>\n",
       "      <td>AmazonHelp</td>\n",
       "      <td>NaN</td>\n",
       "      <td>85741735.0</td>\n",
       "      <td>0.0</td>\n",
       "      <td>False</td>\n",
       "      <td>NaN</td>\n",
       "    </tr>\n",
       "    <tr>\n",
       "      <th>2</th>\n",
       "      <td>'793281386912354304'</td>\n",
       "      <td>Tue Nov 01 02:39:55 +0000 2016</td>\n",
       "      <td>AmazonHelp</td>\n",
       "      <td>85741735.0</td>\n",
       "      <td>2225450.0</td>\n",
       "      <td>11366.0</td>\n",
       "      <td>False</td>\n",
       "      <td>796.0</td>\n",
       "      <td>False</td>\n",
       "      <td>We answer Amazon support questions 7 days a we...</td>\n",
       "      <td>...</td>\n",
       "      <td>en</td>\n",
       "      <td>@SeanEPanjab I'm sorry, we're unable to DM you...</td>\n",
       "      <td>0.0</td>\n",
       "      <td>False</td>\n",
       "      <td>SeanEPanjab</td>\n",
       "      <td>7.930000e+17</td>\n",
       "      <td>143515471.0</td>\n",
       "      <td>0.0</td>\n",
       "      <td>False</td>\n",
       "      <td>NaN</td>\n",
       "    </tr>\n",
       "    <tr>\n",
       "      <th>3</th>\n",
       "      <td>'793501578766319616'</td>\n",
       "      <td>Tue Nov 01 17:14:53 +0000 2016</td>\n",
       "      <td>SeanEPanjab</td>\n",
       "      <td>143515471.0</td>\n",
       "      <td>51287.0</td>\n",
       "      <td>4079.0</td>\n",
       "      <td>False</td>\n",
       "      <td>74.0</td>\n",
       "      <td>False</td>\n",
       "      <td>Content marketer; Polyglot; Beard aficionado; ...</td>\n",
       "      <td>...</td>\n",
       "      <td>en</td>\n",
       "      <td>@AmazonHelp It was purchased on https://t.co/g...</td>\n",
       "      <td>0.0</td>\n",
       "      <td>False</td>\n",
       "      <td>AmazonHelp</td>\n",
       "      <td>7.930000e+17</td>\n",
       "      <td>85741735.0</td>\n",
       "      <td>0.0</td>\n",
       "      <td>False</td>\n",
       "      <td>@AmazonHelp It was purchased on https://t.co/g...</td>\n",
       "    </tr>\n",
       "    <tr>\n",
       "      <th>4</th>\n",
       "      <td>'793501657346682880'</td>\n",
       "      <td>Tue Nov 01 17:15:12 +0000 2016</td>\n",
       "      <td>SeanEPanjab</td>\n",
       "      <td>143515471.0</td>\n",
       "      <td>51287.0</td>\n",
       "      <td>4079.0</td>\n",
       "      <td>False</td>\n",
       "      <td>74.0</td>\n",
       "      <td>False</td>\n",
       "      <td>Content marketer; Polyglot; Beard aficionado; ...</td>\n",
       "      <td>...</td>\n",
       "      <td>en</td>\n",
       "      <td>@AmazonHelp I am following you now, if it help...</td>\n",
       "      <td>0.0</td>\n",
       "      <td>False</td>\n",
       "      <td>AmazonHelp</td>\n",
       "      <td>7.930000e+17</td>\n",
       "      <td>85741735.0</td>\n",
       "      <td>0.0</td>\n",
       "      <td>False</td>\n",
       "      <td>NaN</td>\n",
       "    </tr>\n",
       "  </tbody>\n",
       "</table>\n",
       "<p>5 rows × 25 columns</p>\n",
       "</div>"
      ],
      "text/plain": [
       "                 id_str                tweet_created_at user_screen_name  \\\n",
       "0                   NaN                             NaN              NaN   \n",
       "1  '793270689780203520'  Tue Nov 01 01:57:25 +0000 2016      SeanEPanjab   \n",
       "2  '793281386912354304'  Tue Nov 01 02:39:55 +0000 2016       AmazonHelp   \n",
       "3  '793501578766319616'  Tue Nov 01 17:14:53 +0000 2016      SeanEPanjab   \n",
       "4  '793501657346682880'  Tue Nov 01 17:15:12 +0000 2016      SeanEPanjab   \n",
       "\n",
       "   user_id_str  user_statuses_count  user_favourites_count user_protected  \\\n",
       "0          NaN                  NaN                    NaN            NaN   \n",
       "1  143515471.0              51287.0                 4079.0          False   \n",
       "2   85741735.0            2225450.0                11366.0          False   \n",
       "3  143515471.0              51287.0                 4079.0          False   \n",
       "4  143515471.0              51287.0                 4079.0          False   \n",
       "\n",
       "   user_listed_count user_following  \\\n",
       "0                NaN            NaN   \n",
       "1               74.0          False   \n",
       "2              796.0          False   \n",
       "3               74.0          False   \n",
       "4               74.0          False   \n",
       "\n",
       "                                    user_description  ... tweet_language  \\\n",
       "0                                                NaN  ...            NaN   \n",
       "1  Content marketer; Polyglot; Beard aficionado; ...  ...             en   \n",
       "2  We answer Amazon support questions 7 days a we...  ...             en   \n",
       "3  Content marketer; Polyglot; Beard aficionado; ...  ...             en   \n",
       "4  Content marketer; Polyglot; Beard aficionado; ...  ...             en   \n",
       "\n",
       "                                               text_  favorite_count  \\\n",
       "0                                                NaN             NaN   \n",
       "1  @AmazonHelp Can you please DM me? A product I ...             0.0   \n",
       "2  @SeanEPanjab I'm sorry, we're unable to DM you...             0.0   \n",
       "3  @AmazonHelp It was purchased on https://t.co/g...             0.0   \n",
       "4  @AmazonHelp I am following you now, if it help...             0.0   \n",
       "\n",
       "   favorited in_reply_to_screen_name in_reply_to_status_id_str  \\\n",
       "0        NaN                     NaN                       NaN   \n",
       "1      False              AmazonHelp                       NaN   \n",
       "2      False             SeanEPanjab              7.930000e+17   \n",
       "3      False              AmazonHelp              7.930000e+17   \n",
       "4      False              AmazonHelp              7.930000e+17   \n",
       "\n",
       "  in_reply_to_user_id_str  retweet_count retweeted  \\\n",
       "0                     NaN            NaN       NaN   \n",
       "1              85741735.0            0.0     False   \n",
       "2             143515471.0            0.0     False   \n",
       "3              85741735.0            0.0     False   \n",
       "4              85741735.0            0.0     False   \n",
       "\n",
       "                                                text  \n",
       "0                                                NaN  \n",
       "1                                                NaN  \n",
       "2                                                NaN  \n",
       "3  @AmazonHelp It was purchased on https://t.co/g...  \n",
       "4                                                NaN  \n",
       "\n",
       "[5 rows x 25 columns]"
      ]
     },
     "execution_count": 2,
     "metadata": {},
     "output_type": "execute_result"
    }
   ],
   "source": [
    "amazon_data = pd.read_csv('C:/Users/Sachin Chavan/Downloads/Amazon_Responded_Oct05.csv') #importing the dataset\n",
    "amazon_data.head() #viewing the dataset"
   ]
  },
  {
   "cell_type": "code",
   "execution_count": 3,
   "id": "11a21103",
   "metadata": {},
   "outputs": [
    {
     "name": "stdout",
     "output_type": "stream",
     "text": [
      "(462029, 25)\n"
     ]
    }
   ],
   "source": [
    "print(amazon_data.shape) #checking the number of rows and columns"
   ]
  },
  {
   "cell_type": "code",
   "execution_count": 4,
   "id": "0a596b50",
   "metadata": {},
   "outputs": [
    {
     "name": "stdout",
     "output_type": "stream",
     "text": [
      "Index(['id_str', 'tweet_created_at', 'user_screen_name', 'user_id_str',\n",
      "       'user_statuses_count', 'user_favourites_count', 'user_protected',\n",
      "       'user_listed_count', 'user_following', 'user_description',\n",
      "       'user_location', 'user_verified', 'user_followers_count',\n",
      "       'user_friends_count', 'user_created_at', 'tweet_language', 'text_',\n",
      "       'favorite_count', 'favorited', 'in_reply_to_screen_name',\n",
      "       'in_reply_to_status_id_str', 'in_reply_to_user_id_str', 'retweet_count',\n",
      "       'retweeted', 'text'],\n",
      "      dtype='object')\n"
     ]
    }
   ],
   "source": [
    "print(amazon_data.columns) #checking column names"
   ]
  },
  {
   "cell_type": "code",
   "execution_count": 5,
   "id": "773003bb",
   "metadata": {},
   "outputs": [
    {
     "name": "stdout",
     "output_type": "stream",
     "text": [
      "<class 'pandas.core.frame.DataFrame'>\n",
      "RangeIndex: 462029 entries, 0 to 462028\n",
      "Data columns (total 25 columns):\n",
      " #   Column                     Non-Null Count   Dtype  \n",
      "---  ------                     --------------   -----  \n",
      " 0   id_str                     378134 non-null  object \n",
      " 1   tweet_created_at           378134 non-null  object \n",
      " 2   user_screen_name           378134 non-null  object \n",
      " 3   user_id_str                378134 non-null  float64\n",
      " 4   user_statuses_count        378134 non-null  float64\n",
      " 5   user_favourites_count      378134 non-null  float64\n",
      " 6   user_protected             378134 non-null  object \n",
      " 7   user_listed_count          378134 non-null  float64\n",
      " 8   user_following             378134 non-null  object \n",
      " 9   user_description           331689 non-null  object \n",
      " 10  user_location              155919 non-null  object \n",
      " 11  user_verified              378134 non-null  object \n",
      " 12  user_followers_count       378134 non-null  float64\n",
      " 13  user_friends_count         378134 non-null  float64\n",
      " 14  user_created_at            378134 non-null  object \n",
      " 15  tweet_language             378134 non-null  object \n",
      " 16  text_                      378134 non-null  object \n",
      " 17  favorite_count             378134 non-null  float64\n",
      " 18  favorited                  378134 non-null  object \n",
      " 19  in_reply_to_screen_name    348710 non-null  object \n",
      " 20  in_reply_to_status_id_str  294219 non-null  float64\n",
      " 21  in_reply_to_user_id_str    348710 non-null  float64\n",
      " 22  retweet_count              378134 non-null  float64\n",
      " 23  retweeted                  378134 non-null  object \n",
      " 24  text                       111018 non-null  object \n",
      "dtypes: float64(10), object(15)\n",
      "memory usage: 88.1+ MB\n",
      "None\n"
     ]
    }
   ],
   "source": [
    "print(amazon_data.info()) #gathering information regarding our dataset"
   ]
  },
  {
   "cell_type": "code",
   "execution_count": 6,
   "id": "35d36ca0",
   "metadata": {},
   "outputs": [],
   "source": [
    "amazon_data['Month'] = pd.DatetimeIndex(amazon_data['tweet_created_at']).month #using datetime function of pandas to extarct month\n",
    "amazon_data['Month'] = pd.to_datetime(amazon_data['Month'], format='%m').dt.month_name().str.slice(stop=3) #converting it to string format to match the question \n",
    "amazon_data['Day'] = pd.DatetimeIndex(amazon_data['tweet_created_at']).day #extracting day using pandas datetime function\n",
    "amazon_data['Year'] = pd.DatetimeIndex(amazon_data['tweet_created_at']).year #extracting day using pandas datetime function"
   ]
  },
  {
   "cell_type": "code",
   "execution_count": 7,
   "id": "837e10b3",
   "metadata": {},
   "outputs": [
    {
     "data": {
      "text/html": [
       "<div>\n",
       "<style scoped>\n",
       "    .dataframe tbody tr th:only-of-type {\n",
       "        vertical-align: middle;\n",
       "    }\n",
       "\n",
       "    .dataframe tbody tr th {\n",
       "        vertical-align: top;\n",
       "    }\n",
       "\n",
       "    .dataframe thead th {\n",
       "        text-align: right;\n",
       "    }\n",
       "</style>\n",
       "<table border=\"1\" class=\"dataframe\">\n",
       "  <thead>\n",
       "    <tr style=\"text-align: right;\">\n",
       "      <th></th>\n",
       "      <th>id_str</th>\n",
       "      <th>tweet_created_at</th>\n",
       "      <th>user_screen_name</th>\n",
       "      <th>user_id_str</th>\n",
       "      <th>user_statuses_count</th>\n",
       "      <th>user_favourites_count</th>\n",
       "      <th>user_protected</th>\n",
       "      <th>user_listed_count</th>\n",
       "      <th>user_following</th>\n",
       "      <th>user_description</th>\n",
       "      <th>...</th>\n",
       "      <th>in_reply_to_screen_name</th>\n",
       "      <th>in_reply_to_status_id_str</th>\n",
       "      <th>in_reply_to_user_id_str</th>\n",
       "      <th>retweet_count</th>\n",
       "      <th>retweeted</th>\n",
       "      <th>text</th>\n",
       "      <th>Month</th>\n",
       "      <th>Day</th>\n",
       "      <th>Year</th>\n",
       "      <th>tweet_created_date</th>\n",
       "    </tr>\n",
       "  </thead>\n",
       "  <tbody>\n",
       "    <tr>\n",
       "      <th>0</th>\n",
       "      <td>NaN</td>\n",
       "      <td>NaN</td>\n",
       "      <td>NaN</td>\n",
       "      <td>NaN</td>\n",
       "      <td>NaN</td>\n",
       "      <td>NaN</td>\n",
       "      <td>NaN</td>\n",
       "      <td>NaN</td>\n",
       "      <td>NaN</td>\n",
       "      <td>NaN</td>\n",
       "      <td>...</td>\n",
       "      <td>NaN</td>\n",
       "      <td>NaN</td>\n",
       "      <td>NaN</td>\n",
       "      <td>NaN</td>\n",
       "      <td>NaN</td>\n",
       "      <td>NaN</td>\n",
       "      <td>NaN</td>\n",
       "      <td>NaN</td>\n",
       "      <td>NaN</td>\n",
       "      <td>NaN</td>\n",
       "    </tr>\n",
       "    <tr>\n",
       "      <th>1</th>\n",
       "      <td>'793270689780203520'</td>\n",
       "      <td>Tue Nov 01 01:57:25 +0000 2016</td>\n",
       "      <td>SeanEPanjab</td>\n",
       "      <td>143515471.0</td>\n",
       "      <td>51287.0</td>\n",
       "      <td>4079.0</td>\n",
       "      <td>False</td>\n",
       "      <td>74.0</td>\n",
       "      <td>False</td>\n",
       "      <td>Content marketer; Polyglot; Beard aficionado; ...</td>\n",
       "      <td>...</td>\n",
       "      <td>AmazonHelp</td>\n",
       "      <td>NaN</td>\n",
       "      <td>85741735.0</td>\n",
       "      <td>0.0</td>\n",
       "      <td>False</td>\n",
       "      <td>NaN</td>\n",
       "      <td>Nov</td>\n",
       "      <td>1.0</td>\n",
       "      <td>2016.0</td>\n",
       "      <td>Nov 1.0 2016.0</td>\n",
       "    </tr>\n",
       "    <tr>\n",
       "      <th>2</th>\n",
       "      <td>'793281386912354304'</td>\n",
       "      <td>Tue Nov 01 02:39:55 +0000 2016</td>\n",
       "      <td>AmazonHelp</td>\n",
       "      <td>85741735.0</td>\n",
       "      <td>2225450.0</td>\n",
       "      <td>11366.0</td>\n",
       "      <td>False</td>\n",
       "      <td>796.0</td>\n",
       "      <td>False</td>\n",
       "      <td>We answer Amazon support questions 7 days a we...</td>\n",
       "      <td>...</td>\n",
       "      <td>SeanEPanjab</td>\n",
       "      <td>7.930000e+17</td>\n",
       "      <td>143515471.0</td>\n",
       "      <td>0.0</td>\n",
       "      <td>False</td>\n",
       "      <td>NaN</td>\n",
       "      <td>Nov</td>\n",
       "      <td>1.0</td>\n",
       "      <td>2016.0</td>\n",
       "      <td>Nov 1.0 2016.0</td>\n",
       "    </tr>\n",
       "    <tr>\n",
       "      <th>3</th>\n",
       "      <td>'793501578766319616'</td>\n",
       "      <td>Tue Nov 01 17:14:53 +0000 2016</td>\n",
       "      <td>SeanEPanjab</td>\n",
       "      <td>143515471.0</td>\n",
       "      <td>51287.0</td>\n",
       "      <td>4079.0</td>\n",
       "      <td>False</td>\n",
       "      <td>74.0</td>\n",
       "      <td>False</td>\n",
       "      <td>Content marketer; Polyglot; Beard aficionado; ...</td>\n",
       "      <td>...</td>\n",
       "      <td>AmazonHelp</td>\n",
       "      <td>7.930000e+17</td>\n",
       "      <td>85741735.0</td>\n",
       "      <td>0.0</td>\n",
       "      <td>False</td>\n",
       "      <td>@AmazonHelp It was purchased on https://t.co/g...</td>\n",
       "      <td>Nov</td>\n",
       "      <td>1.0</td>\n",
       "      <td>2016.0</td>\n",
       "      <td>Nov 1.0 2016.0</td>\n",
       "    </tr>\n",
       "    <tr>\n",
       "      <th>4</th>\n",
       "      <td>'793501657346682880'</td>\n",
       "      <td>Tue Nov 01 17:15:12 +0000 2016</td>\n",
       "      <td>SeanEPanjab</td>\n",
       "      <td>143515471.0</td>\n",
       "      <td>51287.0</td>\n",
       "      <td>4079.0</td>\n",
       "      <td>False</td>\n",
       "      <td>74.0</td>\n",
       "      <td>False</td>\n",
       "      <td>Content marketer; Polyglot; Beard aficionado; ...</td>\n",
       "      <td>...</td>\n",
       "      <td>AmazonHelp</td>\n",
       "      <td>7.930000e+17</td>\n",
       "      <td>85741735.0</td>\n",
       "      <td>0.0</td>\n",
       "      <td>False</td>\n",
       "      <td>NaN</td>\n",
       "      <td>Nov</td>\n",
       "      <td>1.0</td>\n",
       "      <td>2016.0</td>\n",
       "      <td>Nov 1.0 2016.0</td>\n",
       "    </tr>\n",
       "    <tr>\n",
       "      <th>...</th>\n",
       "      <td>...</td>\n",
       "      <td>...</td>\n",
       "      <td>...</td>\n",
       "      <td>...</td>\n",
       "      <td>...</td>\n",
       "      <td>...</td>\n",
       "      <td>...</td>\n",
       "      <td>...</td>\n",
       "      <td>...</td>\n",
       "      <td>...</td>\n",
       "      <td>...</td>\n",
       "      <td>...</td>\n",
       "      <td>...</td>\n",
       "      <td>...</td>\n",
       "      <td>...</td>\n",
       "      <td>...</td>\n",
       "      <td>...</td>\n",
       "      <td>...</td>\n",
       "      <td>...</td>\n",
       "      <td>...</td>\n",
       "      <td>...</td>\n",
       "    </tr>\n",
       "    <tr>\n",
       "      <th>462024</th>\n",
       "      <td>NaN</td>\n",
       "      <td>NaN</td>\n",
       "      <td>NaN</td>\n",
       "      <td>NaN</td>\n",
       "      <td>NaN</td>\n",
       "      <td>NaN</td>\n",
       "      <td>NaN</td>\n",
       "      <td>NaN</td>\n",
       "      <td>NaN</td>\n",
       "      <td>NaN</td>\n",
       "      <td>...</td>\n",
       "      <td>NaN</td>\n",
       "      <td>NaN</td>\n",
       "      <td>NaN</td>\n",
       "      <td>NaN</td>\n",
       "      <td>NaN</td>\n",
       "      <td>NaN</td>\n",
       "      <td>NaN</td>\n",
       "      <td>NaN</td>\n",
       "      <td>NaN</td>\n",
       "      <td>NaN</td>\n",
       "    </tr>\n",
       "    <tr>\n",
       "      <th>462025</th>\n",
       "      <td>'892532821893533697'</td>\n",
       "      <td>Tue Aug 01 23:49:41 +0000 2017</td>\n",
       "      <td>nat_says_</td>\n",
       "      <td>60186579.0</td>\n",
       "      <td>14857.0</td>\n",
       "      <td>229.0</td>\n",
       "      <td>False</td>\n",
       "      <td>5.0</td>\n",
       "      <td>False</td>\n",
       "      <td>nothing really going on here. just talking to ...</td>\n",
       "      <td>...</td>\n",
       "      <td>AmazonHelp</td>\n",
       "      <td>NaN</td>\n",
       "      <td>85741735.0</td>\n",
       "      <td>0.0</td>\n",
       "      <td>False</td>\n",
       "      <td>NaN</td>\n",
       "      <td>Aug</td>\n",
       "      <td>1.0</td>\n",
       "      <td>2017.0</td>\n",
       "      <td>Aug 1.0 2017.0</td>\n",
       "    </tr>\n",
       "    <tr>\n",
       "      <th>462026</th>\n",
       "      <td>'892533275968798720'</td>\n",
       "      <td>Tue Aug 01 23:51:30 +0000 2017</td>\n",
       "      <td>AmazonHelp</td>\n",
       "      <td>85741735.0</td>\n",
       "      <td>2215792.0</td>\n",
       "      <td>11277.0</td>\n",
       "      <td>False</td>\n",
       "      <td>796.0</td>\n",
       "      <td>False</td>\n",
       "      <td>We answer Amazon support questions 7 days a we...</td>\n",
       "      <td>...</td>\n",
       "      <td>nat_says_</td>\n",
       "      <td>8.930000e+17</td>\n",
       "      <td>60186579.0</td>\n",
       "      <td>0.0</td>\n",
       "      <td>False</td>\n",
       "      <td>NaN</td>\n",
       "      <td>Aug</td>\n",
       "      <td>1.0</td>\n",
       "      <td>2017.0</td>\n",
       "      <td>Aug 1.0 2017.0</td>\n",
       "    </tr>\n",
       "    <tr>\n",
       "      <th>462027</th>\n",
       "      <td>'892560509639241728'</td>\n",
       "      <td>Wed Aug 02 01:39:43 +0000 2017</td>\n",
       "      <td>nat_says_</td>\n",
       "      <td>60186579.0</td>\n",
       "      <td>14857.0</td>\n",
       "      <td>229.0</td>\n",
       "      <td>False</td>\n",
       "      <td>5.0</td>\n",
       "      <td>False</td>\n",
       "      <td>nothing really going on here. just talking to ...</td>\n",
       "      <td>...</td>\n",
       "      <td>AmazonHelp</td>\n",
       "      <td>8.930000e+17</td>\n",
       "      <td>85741735.0</td>\n",
       "      <td>0.0</td>\n",
       "      <td>False</td>\n",
       "      <td>NaN</td>\n",
       "      <td>Aug</td>\n",
       "      <td>2.0</td>\n",
       "      <td>2017.0</td>\n",
       "      <td>Aug 2.0 2017.0</td>\n",
       "    </tr>\n",
       "    <tr>\n",
       "      <th>462028</th>\n",
       "      <td>'892565616665743360'</td>\n",
       "      <td>Wed Aug 02 02:00:00 +0000 2017</td>\n",
       "      <td>AmazonHelp</td>\n",
       "      <td>85741735.0</td>\n",
       "      <td>2215792.0</td>\n",
       "      <td>11277.0</td>\n",
       "      <td>False</td>\n",
       "      <td>796.0</td>\n",
       "      <td>False</td>\n",
       "      <td>We answer Amazon support questions 7 days a we...</td>\n",
       "      <td>...</td>\n",
       "      <td>nat_says_</td>\n",
       "      <td>8.930000e+17</td>\n",
       "      <td>60186579.0</td>\n",
       "      <td>0.0</td>\n",
       "      <td>False</td>\n",
       "      <td>NaN</td>\n",
       "      <td>Aug</td>\n",
       "      <td>2.0</td>\n",
       "      <td>2017.0</td>\n",
       "      <td>Aug 2.0 2017.0</td>\n",
       "    </tr>\n",
       "  </tbody>\n",
       "</table>\n",
       "<p>462029 rows × 29 columns</p>\n",
       "</div>"
      ],
      "text/plain": [
       "                      id_str                tweet_created_at user_screen_name  \\\n",
       "0                        NaN                             NaN              NaN   \n",
       "1       '793270689780203520'  Tue Nov 01 01:57:25 +0000 2016      SeanEPanjab   \n",
       "2       '793281386912354304'  Tue Nov 01 02:39:55 +0000 2016       AmazonHelp   \n",
       "3       '793501578766319616'  Tue Nov 01 17:14:53 +0000 2016      SeanEPanjab   \n",
       "4       '793501657346682880'  Tue Nov 01 17:15:12 +0000 2016      SeanEPanjab   \n",
       "...                      ...                             ...              ...   \n",
       "462024                   NaN                             NaN              NaN   \n",
       "462025  '892532821893533697'  Tue Aug 01 23:49:41 +0000 2017        nat_says_   \n",
       "462026  '892533275968798720'  Tue Aug 01 23:51:30 +0000 2017       AmazonHelp   \n",
       "462027  '892560509639241728'  Wed Aug 02 01:39:43 +0000 2017        nat_says_   \n",
       "462028  '892565616665743360'  Wed Aug 02 02:00:00 +0000 2017       AmazonHelp   \n",
       "\n",
       "        user_id_str  user_statuses_count  user_favourites_count  \\\n",
       "0               NaN                  NaN                    NaN   \n",
       "1       143515471.0              51287.0                 4079.0   \n",
       "2        85741735.0            2225450.0                11366.0   \n",
       "3       143515471.0              51287.0                 4079.0   \n",
       "4       143515471.0              51287.0                 4079.0   \n",
       "...             ...                  ...                    ...   \n",
       "462024          NaN                  NaN                    NaN   \n",
       "462025   60186579.0              14857.0                  229.0   \n",
       "462026   85741735.0            2215792.0                11277.0   \n",
       "462027   60186579.0              14857.0                  229.0   \n",
       "462028   85741735.0            2215792.0                11277.0   \n",
       "\n",
       "       user_protected  user_listed_count user_following  \\\n",
       "0                 NaN                NaN            NaN   \n",
       "1               False               74.0          False   \n",
       "2               False              796.0          False   \n",
       "3               False               74.0          False   \n",
       "4               False               74.0          False   \n",
       "...               ...                ...            ...   \n",
       "462024            NaN                NaN            NaN   \n",
       "462025          False                5.0          False   \n",
       "462026          False              796.0          False   \n",
       "462027          False                5.0          False   \n",
       "462028          False              796.0          False   \n",
       "\n",
       "                                         user_description  ...  \\\n",
       "0                                                     NaN  ...   \n",
       "1       Content marketer; Polyglot; Beard aficionado; ...  ...   \n",
       "2       We answer Amazon support questions 7 days a we...  ...   \n",
       "3       Content marketer; Polyglot; Beard aficionado; ...  ...   \n",
       "4       Content marketer; Polyglot; Beard aficionado; ...  ...   \n",
       "...                                                   ...  ...   \n",
       "462024                                                NaN  ...   \n",
       "462025  nothing really going on here. just talking to ...  ...   \n",
       "462026  We answer Amazon support questions 7 days a we...  ...   \n",
       "462027  nothing really going on here. just talking to ...  ...   \n",
       "462028  We answer Amazon support questions 7 days a we...  ...   \n",
       "\n",
       "       in_reply_to_screen_name in_reply_to_status_id_str  \\\n",
       "0                          NaN                       NaN   \n",
       "1                   AmazonHelp                       NaN   \n",
       "2                  SeanEPanjab              7.930000e+17   \n",
       "3                   AmazonHelp              7.930000e+17   \n",
       "4                   AmazonHelp              7.930000e+17   \n",
       "...                        ...                       ...   \n",
       "462024                     NaN                       NaN   \n",
       "462025              AmazonHelp                       NaN   \n",
       "462026               nat_says_              8.930000e+17   \n",
       "462027              AmazonHelp              8.930000e+17   \n",
       "462028               nat_says_              8.930000e+17   \n",
       "\n",
       "        in_reply_to_user_id_str  retweet_count retweeted  \\\n",
       "0                           NaN            NaN       NaN   \n",
       "1                    85741735.0            0.0     False   \n",
       "2                   143515471.0            0.0     False   \n",
       "3                    85741735.0            0.0     False   \n",
       "4                    85741735.0            0.0     False   \n",
       "...                         ...            ...       ...   \n",
       "462024                      NaN            NaN       NaN   \n",
       "462025               85741735.0            0.0     False   \n",
       "462026               60186579.0            0.0     False   \n",
       "462027               85741735.0            0.0     False   \n",
       "462028               60186579.0            0.0     False   \n",
       "\n",
       "                                                     text Month  Day    Year  \\\n",
       "0                                                     NaN   NaN  NaN     NaN   \n",
       "1                                                     NaN   Nov  1.0  2016.0   \n",
       "2                                                     NaN   Nov  1.0  2016.0   \n",
       "3       @AmazonHelp It was purchased on https://t.co/g...   Nov  1.0  2016.0   \n",
       "4                                                     NaN   Nov  1.0  2016.0   \n",
       "...                                                   ...   ...  ...     ...   \n",
       "462024                                                NaN   NaN  NaN     NaN   \n",
       "462025                                                NaN   Aug  1.0  2017.0   \n",
       "462026                                                NaN   Aug  1.0  2017.0   \n",
       "462027                                                NaN   Aug  2.0  2017.0   \n",
       "462028                                                NaN   Aug  2.0  2017.0   \n",
       "\n",
       "       tweet_created_date  \n",
       "0                     NaN  \n",
       "1          Nov 1.0 2016.0  \n",
       "2          Nov 1.0 2016.0  \n",
       "3          Nov 1.0 2016.0  \n",
       "4          Nov 1.0 2016.0  \n",
       "...                   ...  \n",
       "462024                NaN  \n",
       "462025     Aug 1.0 2017.0  \n",
       "462026     Aug 1.0 2017.0  \n",
       "462027     Aug 2.0 2017.0  \n",
       "462028     Aug 2.0 2017.0  \n",
       "\n",
       "[462029 rows x 29 columns]"
      ]
     },
     "execution_count": 7,
     "metadata": {},
     "output_type": "execute_result"
    }
   ],
   "source": [
    "amazon_data['tweet_created_date'] = amazon_data['Month'] + \" \" + amazon_data['Day'].astype(str) + \" \" + amazon_data['Year'].astype(str) #concatinating the two columns\n",
    "amazon_data #displaying the dataset"
   ]
  },
  {
   "cell_type": "markdown",
   "id": "597b4082",
   "metadata": {},
   "source": [
    "#Task 1"
   ]
  },
  {
   "cell_type": "code",
   "execution_count": 8,
   "id": "17a83c34",
   "metadata": {},
   "outputs": [
    {
     "name": "stdout",
     "output_type": "stream",
     "text": [
      "+----------------+-----------+------------------+\n",
      "|user_screen_name|user_id_str|tweet_created_date|\n",
      "+----------------+-----------+------------------+\n",
      "|             nan|        nan|               nan|\n",
      "|     SeanEPanjab|143515471.0|    Nov 1.0 2016.0|\n",
      "|      AmazonHelp| 85741735.0|    Nov 1.0 2016.0|\n",
      "|     SeanEPanjab|143515471.0|    Nov 1.0 2016.0|\n",
      "|     SeanEPanjab|143515471.0|    Nov 1.0 2016.0|\n",
      "|      AmazonHelp| 85741735.0|    Nov 1.0 2016.0|\n",
      "|      AmazonHelp| 85741735.0|    Nov 1.0 2016.0|\n",
      "|     SeanEPanjab|143515471.0|    Nov 1.0 2016.0|\n",
      "|     SeanEPanjab|143515471.0|    Nov 1.0 2016.0|\n",
      "|      AmazonHelp| 85741735.0|    Nov 1.0 2016.0|\n",
      "+----------------+-----------+------------------+\n",
      "only showing top 10 rows\n",
      "\n"
     ]
    }
   ],
   "source": [
    "#Step 1: Find out the users who are active in at least five listed days (i.e., created posts in at least 5 days) in Amazon_Responded_Oct05.csv and save their “user_screen_name” and “user_id_str” in the dataframe “daily_active_users” (see below). \n",
    "#Report how many active users you find.\n",
    "\n",
    "amazon_str = amazon_data.astype(str) #changing datframe to string type before converting it to spark\n",
    "spark_amazon = spark.createDataFrame(amazon_str) #converting to spark dataframe\n",
    "spark_amazon = spark_amazon.select('user_screen_name','user_id_str','tweet_created_date') #selecting the three columns that would be required as per the assignment\n",
    "spark_amazon.show(10) #displaying the final dataframe"
   ]
  },
  {
   "cell_type": "code",
   "execution_count": 9,
   "id": "75ab106a",
   "metadata": {},
   "outputs": [],
   "source": [
    "spark_amazon = spark_amazon.dropDuplicates() #dropping duplicates or else they would be included in the daily active users count"
   ]
  },
  {
   "cell_type": "code",
   "execution_count": 10,
   "id": "2b82bbb9",
   "metadata": {},
   "outputs": [],
   "source": [
    "daily_active_users = spark_amazon.groupBy('user_screen_name','user_id_str').count() #taking the count of all users"
   ]
  },
  {
   "cell_type": "code",
   "execution_count": 11,
   "id": "f7c540b5",
   "metadata": {},
   "outputs": [],
   "source": [
    "daily_active_users = daily_active_users.filter(\"count>=5\") #filtering out users who are active on 5 days atleast\n",
    "daily_active_users = daily_active_users.select('user_screen_name','user_id_str') #selecting the two columns required to match the format as per assignment "
   ]
  },
  {
   "cell_type": "code",
   "execution_count": 12,
   "id": "feeb1de9",
   "metadata": {},
   "outputs": [],
   "source": [
    "from pyspark.sql.functions import *\n",
    "daily_active_users = daily_active_users.withColumn(\"user_id_str\", regexp_replace('user_id_str', '\\..*$', '')) #removing decimal point from 'user_id_str' to match the format as per assignment "
   ]
  },
  {
   "cell_type": "code",
   "execution_count": 13,
   "id": "633000a9",
   "metadata": {},
   "outputs": [
    {
     "name": "stdout",
     "output_type": "stream",
     "text": [
      "+----------------+-----------+\n",
      "|user_screen_name|user_id_str|\n",
      "+----------------+-----------+\n",
      "|          txomon|  125675649|\n",
      "|    RobynCobbold|   21041619|\n",
      "|   mehulsthakker|  187257670|\n",
      "|        trallyus|   11702402|\n",
      "|        NOtoGMOs|   49989431|\n",
      "|    matthewD2013| 1300002864|\n",
      "|    ElliottBros1| 2317805748|\n",
      "|      Avisingh18|  103913560|\n",
      "|         Tillums|  206642342|\n",
      "|       sanjanind|   66622722|\n",
      "+----------------+-----------+\n",
      "only showing top 10 rows\n",
      "\n"
     ]
    }
   ],
   "source": [
    "daily_active_users.show(10) #displaying the final output of task1"
   ]
  },
  {
   "cell_type": "code",
   "execution_count": 14,
   "id": "9842cff4",
   "metadata": {},
   "outputs": [
    {
     "data": {
      "text/plain": [
       "593"
      ]
     },
     "execution_count": 14,
     "metadata": {},
     "output_type": "execute_result"
    }
   ],
   "source": [
    "daily_active_users.count() #taking the count of daily active users i.e., 593"
   ]
  },
  {
   "cell_type": "markdown",
   "id": "d1486420",
   "metadata": {},
   "source": [
    "#Task2"
   ]
  },
  {
   "cell_type": "code",
   "execution_count": 15,
   "id": "d880f971",
   "metadata": {},
   "outputs": [
    {
     "name": "stdout",
     "output_type": "stream",
     "text": [
      "+----------+\n",
      "|     value|\n",
      "+----------+\n",
      "| 143515471|\n",
      "|  85741735|\n",
      "|  71457972|\n",
      "|2908108256|\n",
      "| 106799492|\n",
      "|  59156981|\n",
      "| 902137872|\n",
      "| 110354554|\n",
      "|  97424433|\n",
      "|  62364020|\n",
      "+----------+\n",
      "only showing top 10 rows\n",
      "\n"
     ]
    }
   ],
   "source": [
    "#Step 2: A company would like to conduct an A/B test on Twitter. The experiment.txt file includes the user_id_str they selected as potential experiment targets. Please create a dataframe “experiment_user” to document the selected user id and whether they are active users (join the dataframe from step 1). \n",
    "spark_experiment = spark.read.text('C:/Users/Sachin Chavan/Downloads/experiment.txt') #importing the experiment.txt dataset as a spark dataframe\n",
    "spark_experiment.show(10) #displaying the imported dataframe"
   ]
  },
  {
   "cell_type": "code",
   "execution_count": 16,
   "id": "65922649",
   "metadata": {},
   "outputs": [
    {
     "name": "stdout",
     "output_type": "stream",
     "text": [
      "+-----------+\n",
      "|user_id_exp|\n",
      "+-----------+\n",
      "|  143515471|\n",
      "|   85741735|\n",
      "|   71457972|\n",
      "| 2908108256|\n",
      "|  106799492|\n",
      "|   59156981|\n",
      "|  902137872|\n",
      "|  110354554|\n",
      "|   97424433|\n",
      "|   62364020|\n",
      "+-----------+\n",
      "only showing top 10 rows\n",
      "\n"
     ]
    }
   ],
   "source": [
    "spark_experiment = spark_experiment.withColumnRenamed(\"value\", \"user_id_exp\") #assigning a logical column name\n",
    "spark_experiment.show(10) #displaying the dataframe"
   ]
  },
  {
   "cell_type": "code",
   "execution_count": 17,
   "id": "6815b4f9",
   "metadata": {},
   "outputs": [],
   "source": [
    "#In order to join the experiment dataframe with daily active users dataframe, we use a left join as we want all the rows of experiment dataframe to be mapped to the daily active users dataframe\n",
    "experiment_user = spark_experiment.join(daily_active_users,daily_active_users.user_id_str == spark_experiment.user_id_exp,\"left\") "
   ]
  },
  {
   "cell_type": "code",
   "execution_count": 18,
   "id": "3ff2856d",
   "metadata": {},
   "outputs": [
    {
     "name": "stdout",
     "output_type": "stream",
     "text": [
      "+-----------+----------------+-----------+\n",
      "|user_id_exp|user_screen_name|user_id_str|\n",
      "+-----------+----------------+-----------+\n",
      "|  106799492|            null|       null|\n",
      "|   62364020|            null|       null|\n",
      "| 2908108256|            null|       null|\n",
      "|  143515471|            null|       null|\n",
      "|   97424433|            null|       null|\n",
      "| 2706101936|            null|       null|\n",
      "|  110354554| praveen_pandey_|  110354554|\n",
      "|   59156981|            null|       null|\n",
      "|   71457972|            null|       null|\n",
      "|   85741735|      AmazonHelp|   85741735|\n",
      "+-----------+----------------+-----------+\n",
      "only showing top 10 rows\n",
      "\n"
     ]
    }
   ],
   "source": [
    "experiment_user.show(10) #displaying the joined dataframe"
   ]
  },
  {
   "cell_type": "code",
   "execution_count": 19,
   "id": "0cfdc4a0",
   "metadata": {},
   "outputs": [],
   "source": [
    "from pyspark.sql import functions as f\n",
    "experiment_user = experiment_user.withColumn('active_users', f.when(f.col('user_id_exp') == f.col('user_id_str'), \"Yes\").otherwise(\"No\")) #assigning the users with mapped user ids as \"Yes\" and the rest as \"No\""
   ]
  },
  {
   "cell_type": "code",
   "execution_count": 20,
   "id": "8e89e183",
   "metadata": {},
   "outputs": [
    {
     "name": "stdout",
     "output_type": "stream",
     "text": [
      "+-----------+----------------+-----------+------------+\n",
      "|user_id_exp|user_screen_name|user_id_str|active_users|\n",
      "+-----------+----------------+-----------+------------+\n",
      "|  106799492|            null|       null|          No|\n",
      "| 2610379644|            null|       null|          No|\n",
      "|   62364020|            null|       null|          No|\n",
      "|  123138418|            null|       null|          No|\n",
      "| 2908108256|            null|       null|          No|\n",
      "|  143515471|            null|       null|          No|\n",
      "|   97424433|            null|       null|          No|\n",
      "| 2706101936|            null|       null|          No|\n",
      "| 1510968974|            null|       null|          No|\n",
      "|  110354554| praveen_pandey_|  110354554|         Yes|\n",
      "| 2502172122|            null|       null|          No|\n",
      "|  243716471|            null|       null|          No|\n",
      "|   59156981|            null|       null|          No|\n",
      "|   71457972|            null|       null|          No|\n",
      "|  257376764|            null|       null|          No|\n",
      "|    5654472|            null|       null|          No|\n",
      "|   85741735|      AmazonHelp|   85741735|         Yes|\n",
      "|  370711133|            null|       null|          No|\n",
      "|  145579921|            null|       null|          No|\n",
      "|  902137872|     mybharatraj|  902137872|         Yes|\n",
      "+-----------+----------------+-----------+------------+\n",
      "only showing top 20 rows\n",
      "\n"
     ]
    }
   ],
   "source": [
    "experiment_user.show() #displaying the dataframe with the new active users column"
   ]
  },
  {
   "cell_type": "code",
   "execution_count": 21,
   "id": "7c56b882",
   "metadata": {},
   "outputs": [
    {
     "name": "stdout",
     "output_type": "stream",
     "text": [
      "+-----------+------------+\n",
      "|user_id_exp|active_users|\n",
      "+-----------+------------+\n",
      "|  106799492|          No|\n",
      "| 2610379644|          No|\n",
      "|   62364020|          No|\n",
      "|  123138418|          No|\n",
      "| 2908108256|          No|\n",
      "|  143515471|          No|\n",
      "|   97424433|          No|\n",
      "| 2706101936|          No|\n",
      "| 1510968974|          No|\n",
      "|  110354554|         Yes|\n",
      "| 2502172122|          No|\n",
      "|  243716471|          No|\n",
      "|   59156981|          No|\n",
      "|   71457972|          No|\n",
      "|  257376764|          No|\n",
      "|    5654472|          No|\n",
      "|   85741735|         Yes|\n",
      "|  370711133|          No|\n",
      "|  145579921|          No|\n",
      "|  902137872|         Yes|\n",
      "+-----------+------------+\n",
      "only showing top 20 rows\n",
      "\n"
     ]
    }
   ],
   "source": [
    "experiment_user = experiment_user.select('user_id_exp','active_users') #selecting the two columns to match the format required as per the assignment\n",
    "experiment_user.show() #displaying the final dataframe"
   ]
  },
  {
   "cell_type": "code",
   "execution_count": 22,
   "id": "6ec57f14",
   "metadata": {},
   "outputs": [],
   "source": [
    "exp_user_count = experiment_user.groupBy(\"active_users\").count() #getting the count of active vs inactive users in a new dataframe"
   ]
  },
  {
   "cell_type": "code",
   "execution_count": 23,
   "id": "c7497520",
   "metadata": {},
   "outputs": [
    {
     "name": "stdout",
     "output_type": "stream",
     "text": [
      "+------------+-----+\n",
      "|active_users|count|\n",
      "+------------+-----+\n",
      "|          No| 4885|\n",
      "|         Yes|  115|\n",
      "+------------+-----+\n",
      "\n"
     ]
    }
   ],
   "source": [
    "exp_user_count.show() #displaying the count"
   ]
  },
  {
   "cell_type": "code",
   "execution_count": 24,
   "id": "6f8162ad",
   "metadata": {},
   "outputs": [
    {
     "name": "stdout",
     "output_type": "stream",
     "text": [
      "['active_users', 'count']\n"
     ]
    }
   ],
   "source": [
    "print(exp_user_count.columns) #re-confirming the column names of our dataframe before percentage calculation"
   ]
  },
  {
   "cell_type": "code",
   "execution_count": 25,
   "id": "3e87229c",
   "metadata": {},
   "outputs": [
    {
     "name": "stdout",
     "output_type": "stream",
     "text": [
      "+------------+-----+-------------+\n",
      "|active_users|count|count_percent|\n",
      "+------------+-----+-------------+\n",
      "|          No| 4885|         97.7|\n",
      "|         Yes|  115|          2.3|\n",
      "+------------+-----+-------------+\n",
      "\n"
     ]
    }
   ],
   "source": [
    "from pyspark.sql.window import Window\n",
    "df_percent = exp_user_count.withColumn('count_percent',f.col('count')/f.sum('count').over(Window.partitionBy())*100) #calculating the percentage of active and inactive users\n",
    "df_percent.show() #displaying the percentages, the percent of active users is 2.3%"
   ]
  },
  {
   "cell_type": "markdown",
   "id": "dad0e179",
   "metadata": {
    "scrolled": true
   },
   "source": [
    "#Task 3"
   ]
  },
  {
   "cell_type": "code",
   "execution_count": 26,
   "id": "edba528b",
   "metadata": {},
   "outputs": [],
   "source": [
    "#Please help them fill in the remaining columns by joining the dataframes you got from step 1&2 together and save the result in a dataframe “final_experiment”. (Note: For inactive users that cannot be found in “daily_active_users”, you can leave their “user_screen_name” blank or fill with “Not found”)"
   ]
  },
  {
   "cell_type": "code",
   "execution_count": 29,
   "id": "ea180b84",
   "metadata": {},
   "outputs": [
    {
     "name": "stdout",
     "output_type": "stream",
     "text": [
      "+-----------+----+--------------+----------------+\n",
      "|user_id_str|info|whether_active|user_screen_name|\n",
      "+-----------+----+--------------+----------------+\n",
      "|   62364020|   F|          null|            null|\n",
      "| 2706101936|   M|          null|            null|\n",
      "|    5654472|   F|          null|            null|\n",
      "|  145579921|   F|          null|            null|\n",
      "| 2502172122|   M|          null|            null|\n",
      "|  243716471|   F|          null|            null|\n",
      "| 2610379644|   M|          null|            null|\n",
      "|  123138418|   M|          null|            null|\n",
      "|  257376764|   F|          null|            null|\n",
      "|  269145593|   M|          null|            null|\n",
      "|  370711133|   F|          null|            null|\n",
      "| 1510968974|   F|          null|            null|\n",
      "| 3526380922|   M|          null|            null|\n",
      "|  163413904|   F|          null|            null|\n",
      "|   16980347|   M|          null|            null|\n",
      "| 1209614366|   M|          null|            null|\n",
      "|  447433286|   F|          null|            null|\n",
      "| 1970607968|   M|          null|            null|\n",
      "| 3285473358|   F|          null|            null|\n",
      "| 1112166661|   F|          null|            null|\n",
      "+-----------+----+--------------+----------------+\n",
      "only showing top 20 rows\n",
      "\n"
     ]
    }
   ],
   "source": [
    "final_experiment = spark.read.csv('C:/Users/Sachin Chavan/Downloads/final_experiment.csv', header = True) #importing the final_experiment dataset as a spark dataframe\n",
    "final_experiment.show() #displaying the datframe"
   ]
  },
  {
   "cell_type": "code",
   "execution_count": 30,
   "id": "0462fcb7",
   "metadata": {},
   "outputs": [
    {
     "name": "stdout",
     "output_type": "stream",
     "text": [
      "+-----------+------------+----------------+-----------+\n",
      "|user_id_exp|active_users|user_screen_name|user_id_str|\n",
      "+-----------+------------+----------------+-----------+\n",
      "|  106799492|          No|            null|       null|\n",
      "| 2610379644|          No|            null|       null|\n",
      "|   62364020|          No|            null|       null|\n",
      "|  123138418|          No|            null|       null|\n",
      "| 2908108256|          No|            null|       null|\n",
      "|  143515471|          No|            null|       null|\n",
      "|   97424433|          No|            null|       null|\n",
      "| 2706101936|          No|            null|       null|\n",
      "| 1510968974|          No|            null|       null|\n",
      "|  110354554|         Yes| praveen_pandey_|  110354554|\n",
      "| 2502172122|          No|            null|       null|\n",
      "|  243716471|          No|            null|       null|\n",
      "|   59156981|          No|            null|       null|\n",
      "|   71457972|          No|            null|       null|\n",
      "|  257376764|          No|            null|       null|\n",
      "|    5654472|          No|            null|       null|\n",
      "|   85741735|         Yes|      AmazonHelp|   85741735|\n",
      "|  370711133|          No|            null|       null|\n",
      "|  145579921|          No|            null|       null|\n",
      "|  902137872|         Yes|     mybharatraj|  902137872|\n",
      "+-----------+------------+----------------+-----------+\n",
      "only showing top 20 rows\n",
      "\n"
     ]
    }
   ],
   "source": [
    "#The first join between daily active users and experiment_users dataframe would be left join to capture all active and inactive users\n",
    "join1 = experiment_user.join(daily_active_users, daily_active_users.user_id_str == experiment_user.user_id_exp, how = 'left')\n",
    "join1.show() #displaying the joined dataframe"
   ]
  },
  {
   "cell_type": "code",
   "execution_count": 31,
   "id": "ec510392",
   "metadata": {},
   "outputs": [
    {
     "name": "stdout",
     "output_type": "stream",
     "text": [
      "+-----------+------------+----------------+\n",
      "|user_id_exp|active_users|user_screen_name|\n",
      "+-----------+------------+----------------+\n",
      "|  106799492|          No|            null|\n",
      "| 2908108256|          No|            null|\n",
      "|  143515471|          No|            null|\n",
      "|   59156981|          No|            null|\n",
      "|   71457972|          No|            null|\n",
      "+-----------+------------+----------------+\n",
      "only showing top 5 rows\n",
      "\n"
     ]
    }
   ],
   "source": [
    "join1 = join1.drop('user_id_str') #dropping the user_id_str here itself as it will pose a duplication issue post the final join\n",
    "join1.show(5) #displaying the dataframe post the column drop"
   ]
  },
  {
   "cell_type": "code",
   "execution_count": 32,
   "id": "412a3176",
   "metadata": {},
   "outputs": [],
   "source": [
    "final_experiment = final_experiment.drop('user_screen_name') #As join1 already has user_screen_name, dropping this column from final_experiment to avoid duplication post the final join"
   ]
  },
  {
   "cell_type": "code",
   "execution_count": 33,
   "id": "aa16152c",
   "metadata": {},
   "outputs": [
    {
     "name": "stdout",
     "output_type": "stream",
     "text": [
      "+-----------+----+--------------+-----------+------------+----------------+\n",
      "|user_id_str|info|whether_active|user_id_exp|active_users|user_screen_name|\n",
      "+-----------+----+--------------+-----------+------------+----------------+\n",
      "| 1112166661|   F|          null| 1112166661|          No|            null|\n",
      "| 1209614366|   M|          null| 1209614366|          No|            null|\n",
      "|  123138418|   M|          null|  123138418|          No|            null|\n",
      "|  145579921|   F|          null|  145579921|          No|            null|\n",
      "| 1510968974|   F|          null| 1510968974|          No|            null|\n",
      "|  163413904|   F|          null|  163413904|          No|            null|\n",
      "|   16980347|   M|          null|   16980347|          No|            null|\n",
      "| 1970607968|   M|          null| 1970607968|          No|            null|\n",
      "|  243716471|   F|          null|  243716471|          No|            null|\n",
      "| 2502172122|   M|          null| 2502172122|          No|            null|\n",
      "|  257376764|   F|          null|  257376764|          No|            null|\n",
      "| 2610379644|   M|          null| 2610379644|          No|            null|\n",
      "|  269145593|   M|          null|  269145593|          No|            null|\n",
      "| 2706101936|   M|          null| 2706101936|          No|            null|\n",
      "| 3285473358|   F|          null| 3285473358|         Yes|    iwritegarima|\n",
      "| 3526380922|   M|          null| 3526380922|          No|            null|\n",
      "|  370711133|   F|          null|  370711133|          No|            null|\n",
      "|  422175328|   M|          null|  422175328|          No|            null|\n",
      "|  447433286|   F|          null|  447433286|          No|            null|\n",
      "|    5654472|   F|          null|    5654472|          No|            null|\n",
      "+-----------+----+--------------+-----------+------------+----------------+\n",
      "only showing top 20 rows\n",
      "\n"
     ]
    }
   ],
   "source": [
    "#The final join between final_experiment and join1 would also be left join to capture the include the users in the revised experiment list\n",
    "join2 = final_experiment.join(join1, final_experiment.user_id_str == join1.user_id_exp, how = 'left')\n",
    "join2.show() #displaying the joined dataframe"
   ]
  },
  {
   "cell_type": "code",
   "execution_count": 34,
   "id": "cb5e6641",
   "metadata": {},
   "outputs": [
    {
     "name": "stdout",
     "output_type": "stream",
     "text": [
      "+-----------+----+------------+----------------+\n",
      "|user_id_str|info|active_users|user_screen_name|\n",
      "+-----------+----+------------+----------------+\n",
      "|  145579921|   F|          No|            null|\n",
      "|  243716471|   F|          No|            null|\n",
      "| 2502172122|   M|          No|            null|\n",
      "| 2706101936|   M|          No|            null|\n",
      "|    5654472|   F|          No|            null|\n",
      "+-----------+----+------------+----------------+\n",
      "only showing top 5 rows\n",
      "\n"
     ]
    }
   ],
   "source": [
    "join2 = join2.drop('whether_active', 'user_id_exp') #dropping the column to match the format as per the assigned task\n",
    "join2.show(5) #displaying the dataframe"
   ]
  },
  {
   "cell_type": "code",
   "execution_count": 35,
   "id": "702339a5",
   "metadata": {},
   "outputs": [
    {
     "name": "stdout",
     "output_type": "stream",
     "text": [
      "+-----------+----+--------------+----------------+\n",
      "|user_id_str|info|whether_active|user_screen_name|\n",
      "+-----------+----+--------------+----------------+\n",
      "| 1112166661|   F|            No|            null|\n",
      "| 1209614366|   M|            No|            null|\n",
      "|  123138418|   M|            No|            null|\n",
      "|  145579921|   F|            No|            null|\n",
      "| 1510968974|   F|            No|            null|\n",
      "|  163413904|   F|            No|            null|\n",
      "|   16980347|   M|            No|            null|\n",
      "| 1970607968|   M|            No|            null|\n",
      "|  243716471|   F|            No|            null|\n",
      "| 2502172122|   M|            No|            null|\n",
      "|  257376764|   F|            No|            null|\n",
      "| 2610379644|   M|            No|            null|\n",
      "|  269145593|   M|            No|            null|\n",
      "| 2706101936|   M|            No|            null|\n",
      "| 3285473358|   F|           Yes|    iwritegarima|\n",
      "| 3526380922|   M|            No|            null|\n",
      "|  370711133|   F|            No|            null|\n",
      "|  422175328|   M|            No|            null|\n",
      "|  447433286|   F|            No|            null|\n",
      "|    5654472|   F|            No|            null|\n",
      "+-----------+----+--------------+----------------+\n",
      "only showing top 20 rows\n",
      "\n"
     ]
    }
   ],
   "source": [
    "join2 = join2.withColumnRenamed(\"active_users\", \"whether_active\") #renaming the column to match the format as per the assigned task\n",
    "join2.show() #displaying the final joined dataframe"
   ]
  },
  {
   "cell_type": "code",
   "execution_count": 36,
   "id": "444650d5",
   "metadata": {},
   "outputs": [
    {
     "name": "stdout",
     "output_type": "stream",
     "text": [
      "+-----------+----+--------------+----------------+\n",
      "|user_id_str|info|whether_active|user_screen_name|\n",
      "+-----------+----+--------------+----------------+\n",
      "| 1112166661|   F|            No|            null|\n",
      "| 1209614366|   M|            No|            null|\n",
      "|  123138418|   M|            No|            null|\n",
      "|  145579921|   F|            No|            null|\n",
      "| 1510968974|   F|            No|            null|\n",
      "|  163413904|   F|            No|            null|\n",
      "|   16980347|   M|            No|            null|\n",
      "| 1970607968|   M|            No|            null|\n",
      "|  243716471|   F|            No|            null|\n",
      "| 2502172122|   M|            No|            null|\n",
      "|  257376764|   F|            No|            null|\n",
      "| 2610379644|   M|            No|            null|\n",
      "|  269145593|   M|            No|            null|\n",
      "| 2706101936|   M|            No|            null|\n",
      "| 3285473358|   F|           Yes|    iwritegarima|\n",
      "| 3526380922|   M|            No|            null|\n",
      "|  370711133|   F|            No|            null|\n",
      "|  422175328|   M|            No|            null|\n",
      "|  447433286|   F|            No|            null|\n",
      "|    5654472|   F|            No|            null|\n",
      "+-----------+----+--------------+----------------+\n",
      "only showing top 20 rows\n",
      "\n"
     ]
    }
   ],
   "source": [
    "final_experiment = join2 #assigning the new joined dataframe to final_experiment\n",
    "final_experiment.show() #displaying the final_experiment dataframe"
   ]
  },
  {
   "cell_type": "code",
   "execution_count": 37,
   "id": "5f7e1505",
   "metadata": {},
   "outputs": [
    {
     "name": "stdout",
     "output_type": "stream",
     "text": [
      "+--------------+-----+\n",
      "|whether_active|count|\n",
      "+--------------+-----+\n",
      "|          null|  262|\n",
      "|            No| 4142|\n",
      "|           Yes|   96|\n",
      "+--------------+-----+\n",
      "\n"
     ]
    }
   ],
   "source": [
    "final_experiment.groupBy(\"whether_active\").count().show() #taking the count to ensure all users (4500) were included in the final_experiment dataframe"
   ]
  },
  {
   "cell_type": "code",
   "execution_count": 38,
   "id": "5fd3075f",
   "metadata": {},
   "outputs": [],
   "source": [
    "#pushing the daily_active_users dataframe to csv\n",
    "daily_active_users.toPandas().to_csv(('C:/Users/Sachin Chavan/Downloads/daily_active_users_sachin.csv'), index = True, header=True)"
   ]
  },
  {
   "cell_type": "code",
   "execution_count": 39,
   "id": "6a6cccce",
   "metadata": {},
   "outputs": [],
   "source": [
    "#pushing the experiment_user dataframe to csv\n",
    "experiment_user.toPandas().to_csv(('C:/Users/Sachin Chavan/Downloads/experiment_user_sachin.csv'), index = True, header=True)"
   ]
  },
  {
   "cell_type": "code",
   "execution_count": 40,
   "id": "ff457df6",
   "metadata": {},
   "outputs": [],
   "source": [
    "#pushing the final_experiment dataframe to csv\n",
    "final_experiment.toPandas().to_csv(('C:/Users/Sachin Chavan/Downloads/final_experiment_sachin.csv'), index = True, header=True)"
   ]
  },
  {
   "cell_type": "code",
   "execution_count": null,
   "id": "16ff92a2",
   "metadata": {},
   "outputs": [],
   "source": []
  }
 ],
 "metadata": {
  "kernelspec": {
   "display_name": "Python 3 (ipykernel)",
   "language": "python",
   "name": "python3"
  },
  "language_info": {
   "codemirror_mode": {
    "name": "ipython",
    "version": 3
   },
   "file_extension": ".py",
   "mimetype": "text/x-python",
   "name": "python",
   "nbconvert_exporter": "python",
   "pygments_lexer": "ipython3",
   "version": "3.9.7"
  }
 },
 "nbformat": 4,
 "nbformat_minor": 5
}
